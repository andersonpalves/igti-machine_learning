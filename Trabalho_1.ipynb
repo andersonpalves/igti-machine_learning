{
  "nbformat": 4,
  "nbformat_minor": 0,
  "metadata": {
    "colab": {
      "name": "Trabalho 1.ipynb",
      "provenance": [],
      "collapsed_sections": [],
      "authorship_tag": "ABX9TyNMLMPe/nlARheaPURS31ON",
      "include_colab_link": true
    },
    "kernelspec": {
      "name": "python3",
      "display_name": "Python 3"
    },
    "language_info": {
      "name": "python"
    }
  },
  "cells": [
    {
      "cell_type": "markdown",
      "metadata": {
        "id": "view-in-github",
        "colab_type": "text"
      },
      "source": [
        "<a href=\"https://colab.research.google.com/github/andersonpalves/igti-machine_learning/blob/main/Trabalho_1.ipynb\" target=\"_parent\"><img src=\"https://colab.research.google.com/assets/colab-badge.svg\" alt=\"Open In Colab\"/></a>"
      ]
    },
    {
      "cell_type": "markdown",
      "metadata": {
        "id": "6N6hUzgEWgs-"
      },
      "source": [
        "# **Regressão Linear**\n",
        "1.  Selecionar dataset.\n",
        "2.\tObter informações sobre números de features e instâncias dos datasets. \n",
        "3.\tIdentificar a existência de dados faltantes nos datasets.\n",
        "4.\tSeparar os conjuntos de treino e teste, usando a função train_test_slipt, com test_size = 0.35.\n",
        "5.\tImportar o sklearn para:\n",
        "6.\tAplicar à base de regressão o modelo de regressão linear.\n",
        "7.\tAvaliar as métricas R2, MAE e MSE\n"
      ]
    },
    {
      "cell_type": "code",
      "metadata": {
        "id": "xnNBNAjZEe6N"
      },
      "source": [
        "from sklearn.datasets import load_boston \n",
        "from sklearn.model_selection import train_test_split\n",
        "from sklearn.linear_model import LinearRegression \n",
        "from sklearn import metrics\n",
        "import numpy as np\n",
        "import pandas as pd"
      ],
      "execution_count": 24,
      "outputs": []
    },
    {
      "cell_type": "code",
      "metadata": {
        "id": "Fuw2raau026i",
        "colab": {
          "base_uri": "https://localhost:8080/",
          "height": 297
        },
        "outputId": "61471260-69d4-4247-8deb-2f9cac08c34f"
      },
      "source": [
        "# carrega os dados \n",
        "house_data = load_boston()\n",
        "dfx = pd.DataFrame(house_data.data, columns = boston.feature_names)\n",
        "dfy = pd.DataFrame(house_data.target, columns = ['target'])\n",
        "dfcombine = dfx.join(dfy)\n",
        "dfcombine.describe()"
      ],
      "execution_count": 25,
      "outputs": [
        {
          "output_type": "execute_result",
          "data": {
            "text/html": [
              "<div>\n",
              "<style scoped>\n",
              "    .dataframe tbody tr th:only-of-type {\n",
              "        vertical-align: middle;\n",
              "    }\n",
              "\n",
              "    .dataframe tbody tr th {\n",
              "        vertical-align: top;\n",
              "    }\n",
              "\n",
              "    .dataframe thead th {\n",
              "        text-align: right;\n",
              "    }\n",
              "</style>\n",
              "<table border=\"1\" class=\"dataframe\">\n",
              "  <thead>\n",
              "    <tr style=\"text-align: right;\">\n",
              "      <th></th>\n",
              "      <th>CRIM</th>\n",
              "      <th>ZN</th>\n",
              "      <th>INDUS</th>\n",
              "      <th>CHAS</th>\n",
              "      <th>NOX</th>\n",
              "      <th>RM</th>\n",
              "      <th>AGE</th>\n",
              "      <th>DIS</th>\n",
              "      <th>RAD</th>\n",
              "      <th>TAX</th>\n",
              "      <th>PTRATIO</th>\n",
              "      <th>B</th>\n",
              "      <th>LSTAT</th>\n",
              "      <th>target</th>\n",
              "    </tr>\n",
              "  </thead>\n",
              "  <tbody>\n",
              "    <tr>\n",
              "      <th>count</th>\n",
              "      <td>506.000000</td>\n",
              "      <td>506.000000</td>\n",
              "      <td>506.000000</td>\n",
              "      <td>506.000000</td>\n",
              "      <td>506.000000</td>\n",
              "      <td>506.000000</td>\n",
              "      <td>506.000000</td>\n",
              "      <td>506.000000</td>\n",
              "      <td>506.000000</td>\n",
              "      <td>506.000000</td>\n",
              "      <td>506.000000</td>\n",
              "      <td>506.000000</td>\n",
              "      <td>506.000000</td>\n",
              "      <td>506.000000</td>\n",
              "    </tr>\n",
              "    <tr>\n",
              "      <th>mean</th>\n",
              "      <td>3.613524</td>\n",
              "      <td>11.363636</td>\n",
              "      <td>11.136779</td>\n",
              "      <td>0.069170</td>\n",
              "      <td>0.554695</td>\n",
              "      <td>6.284634</td>\n",
              "      <td>68.574901</td>\n",
              "      <td>3.795043</td>\n",
              "      <td>9.549407</td>\n",
              "      <td>408.237154</td>\n",
              "      <td>18.455534</td>\n",
              "      <td>356.674032</td>\n",
              "      <td>12.653063</td>\n",
              "      <td>22.532806</td>\n",
              "    </tr>\n",
              "    <tr>\n",
              "      <th>std</th>\n",
              "      <td>8.601545</td>\n",
              "      <td>23.322453</td>\n",
              "      <td>6.860353</td>\n",
              "      <td>0.253994</td>\n",
              "      <td>0.115878</td>\n",
              "      <td>0.702617</td>\n",
              "      <td>28.148861</td>\n",
              "      <td>2.105710</td>\n",
              "      <td>8.707259</td>\n",
              "      <td>168.537116</td>\n",
              "      <td>2.164946</td>\n",
              "      <td>91.294864</td>\n",
              "      <td>7.141062</td>\n",
              "      <td>9.197104</td>\n",
              "    </tr>\n",
              "    <tr>\n",
              "      <th>min</th>\n",
              "      <td>0.006320</td>\n",
              "      <td>0.000000</td>\n",
              "      <td>0.460000</td>\n",
              "      <td>0.000000</td>\n",
              "      <td>0.385000</td>\n",
              "      <td>3.561000</td>\n",
              "      <td>2.900000</td>\n",
              "      <td>1.129600</td>\n",
              "      <td>1.000000</td>\n",
              "      <td>187.000000</td>\n",
              "      <td>12.600000</td>\n",
              "      <td>0.320000</td>\n",
              "      <td>1.730000</td>\n",
              "      <td>5.000000</td>\n",
              "    </tr>\n",
              "    <tr>\n",
              "      <th>25%</th>\n",
              "      <td>0.082045</td>\n",
              "      <td>0.000000</td>\n",
              "      <td>5.190000</td>\n",
              "      <td>0.000000</td>\n",
              "      <td>0.449000</td>\n",
              "      <td>5.885500</td>\n",
              "      <td>45.025000</td>\n",
              "      <td>2.100175</td>\n",
              "      <td>4.000000</td>\n",
              "      <td>279.000000</td>\n",
              "      <td>17.400000</td>\n",
              "      <td>375.377500</td>\n",
              "      <td>6.950000</td>\n",
              "      <td>17.025000</td>\n",
              "    </tr>\n",
              "    <tr>\n",
              "      <th>50%</th>\n",
              "      <td>0.256510</td>\n",
              "      <td>0.000000</td>\n",
              "      <td>9.690000</td>\n",
              "      <td>0.000000</td>\n",
              "      <td>0.538000</td>\n",
              "      <td>6.208500</td>\n",
              "      <td>77.500000</td>\n",
              "      <td>3.207450</td>\n",
              "      <td>5.000000</td>\n",
              "      <td>330.000000</td>\n",
              "      <td>19.050000</td>\n",
              "      <td>391.440000</td>\n",
              "      <td>11.360000</td>\n",
              "      <td>21.200000</td>\n",
              "    </tr>\n",
              "    <tr>\n",
              "      <th>75%</th>\n",
              "      <td>3.677083</td>\n",
              "      <td>12.500000</td>\n",
              "      <td>18.100000</td>\n",
              "      <td>0.000000</td>\n",
              "      <td>0.624000</td>\n",
              "      <td>6.623500</td>\n",
              "      <td>94.075000</td>\n",
              "      <td>5.188425</td>\n",
              "      <td>24.000000</td>\n",
              "      <td>666.000000</td>\n",
              "      <td>20.200000</td>\n",
              "      <td>396.225000</td>\n",
              "      <td>16.955000</td>\n",
              "      <td>25.000000</td>\n",
              "    </tr>\n",
              "    <tr>\n",
              "      <th>max</th>\n",
              "      <td>88.976200</td>\n",
              "      <td>100.000000</td>\n",
              "      <td>27.740000</td>\n",
              "      <td>1.000000</td>\n",
              "      <td>0.871000</td>\n",
              "      <td>8.780000</td>\n",
              "      <td>100.000000</td>\n",
              "      <td>12.126500</td>\n",
              "      <td>24.000000</td>\n",
              "      <td>711.000000</td>\n",
              "      <td>22.000000</td>\n",
              "      <td>396.900000</td>\n",
              "      <td>37.970000</td>\n",
              "      <td>50.000000</td>\n",
              "    </tr>\n",
              "  </tbody>\n",
              "</table>\n",
              "</div>"
            ],
            "text/plain": [
              "             CRIM          ZN       INDUS  ...           B       LSTAT      target\n",
              "count  506.000000  506.000000  506.000000  ...  506.000000  506.000000  506.000000\n",
              "mean     3.613524   11.363636   11.136779  ...  356.674032   12.653063   22.532806\n",
              "std      8.601545   23.322453    6.860353  ...   91.294864    7.141062    9.197104\n",
              "min      0.006320    0.000000    0.460000  ...    0.320000    1.730000    5.000000\n",
              "25%      0.082045    0.000000    5.190000  ...  375.377500    6.950000   17.025000\n",
              "50%      0.256510    0.000000    9.690000  ...  391.440000   11.360000   21.200000\n",
              "75%      3.677083   12.500000   18.100000  ...  396.225000   16.955000   25.000000\n",
              "max     88.976200  100.000000   27.740000  ...  396.900000   37.970000   50.000000\n",
              "\n",
              "[8 rows x 14 columns]"
            ]
          },
          "metadata": {
            "tags": []
          },
          "execution_count": 25
        }
      ]
    },
    {
      "cell_type": "code",
      "metadata": {
        "colab": {
          "base_uri": "https://localhost:8080/"
        },
        "id": "xyiDuPtRWwEg",
        "outputId": "8a3edccd-6dcf-44b6-8c5c-6e1769612500"
      },
      "source": [
        "print('Amostras e Features:', dfcombine.shape, '. Conforme documentação, não há dados faltantes.')"
      ],
      "execution_count": 29,
      "outputs": [
        {
          "output_type": "stream",
          "text": [
            "Amostras e Features: (506, 14) . Conforme documentação, não há dados faltantes.\n"
          ],
          "name": "stdout"
        }
      ]
    },
    {
      "cell_type": "code",
      "metadata": {
        "colab": {
          "base_uri": "https://localhost:8080/",
          "height": 359
        },
        "id": "mpDy3QD9En52",
        "outputId": "50f6484f-e4f9-4a23-d177-024fe9e0c157"
      },
      "source": [
        "X_train, X_test, y_train, y_test = train_test_split(X, y, test_size=0.35, random_state=42)\n",
        "X = house_data['data']\n",
        "y = house_data['target']\n",
        "\n",
        "regression = LinearRegression()\n",
        "regression.fit(X_train, y_train)\n",
        "prediction = regression.predict(X_test)\n",
        "\n",
        "p = pd.DataFrame({'Real': y_test, 'Previsto': prediction})  \n",
        "p.head(10)"
      ],
      "execution_count": 30,
      "outputs": [
        {
          "output_type": "execute_result",
          "data": {
            "text/html": [
              "<div>\n",
              "<style scoped>\n",
              "    .dataframe tbody tr th:only-of-type {\n",
              "        vertical-align: middle;\n",
              "    }\n",
              "\n",
              "    .dataframe tbody tr th {\n",
              "        vertical-align: top;\n",
              "    }\n",
              "\n",
              "    .dataframe thead th {\n",
              "        text-align: right;\n",
              "    }\n",
              "</style>\n",
              "<table border=\"1\" class=\"dataframe\">\n",
              "  <thead>\n",
              "    <tr style=\"text-align: right;\">\n",
              "      <th></th>\n",
              "      <th>Real</th>\n",
              "      <th>Previsto</th>\n",
              "    </tr>\n",
              "  </thead>\n",
              "  <tbody>\n",
              "    <tr>\n",
              "      <th>0</th>\n",
              "      <td>23.6</td>\n",
              "      <td>28.609523</td>\n",
              "    </tr>\n",
              "    <tr>\n",
              "      <th>1</th>\n",
              "      <td>32.4</td>\n",
              "      <td>36.856268</td>\n",
              "    </tr>\n",
              "    <tr>\n",
              "      <th>2</th>\n",
              "      <td>13.6</td>\n",
              "      <td>15.388769</td>\n",
              "    </tr>\n",
              "    <tr>\n",
              "      <th>3</th>\n",
              "      <td>22.8</td>\n",
              "      <td>25.644527</td>\n",
              "    </tr>\n",
              "    <tr>\n",
              "      <th>4</th>\n",
              "      <td>16.1</td>\n",
              "      <td>18.724063</td>\n",
              "    </tr>\n",
              "    <tr>\n",
              "      <th>5</th>\n",
              "      <td>20.0</td>\n",
              "      <td>23.026495</td>\n",
              "    </tr>\n",
              "    <tr>\n",
              "      <th>6</th>\n",
              "      <td>17.8</td>\n",
              "      <td>17.228690</td>\n",
              "    </tr>\n",
              "    <tr>\n",
              "      <th>7</th>\n",
              "      <td>14.0</td>\n",
              "      <td>14.039718</td>\n",
              "    </tr>\n",
              "    <tr>\n",
              "      <th>8</th>\n",
              "      <td>19.6</td>\n",
              "      <td>22.906703</td>\n",
              "    </tr>\n",
              "    <tr>\n",
              "      <th>9</th>\n",
              "      <td>16.8</td>\n",
              "      <td>20.690419</td>\n",
              "    </tr>\n",
              "  </tbody>\n",
              "</table>\n",
              "</div>"
            ],
            "text/plain": [
              "   Real   Previsto\n",
              "0  23.6  28.609523\n",
              "1  32.4  36.856268\n",
              "2  13.6  15.388769\n",
              "3  22.8  25.644527\n",
              "4  16.1  18.724063\n",
              "5  20.0  23.026495\n",
              "6  17.8  17.228690\n",
              "7  14.0  14.039718\n",
              "8  19.6  22.906703\n",
              "9  16.8  20.690419"
            ]
          },
          "metadata": {
            "tags": []
          },
          "execution_count": 30
        }
      ]
    },
    {
      "cell_type": "code",
      "metadata": {
        "colab": {
          "base_uri": "https://localhost:8080/"
        },
        "id": "AVllB02NVUxo",
        "outputId": "ecb67843-1111-49c9-f9c6-63f30a858964"
      },
      "source": [
        "print('R2:', metrics.r2_score(y_test, prediction)) \n",
        "print('MSE:', metrics.mean_squared_error(y_test, prediction))  \n",
        "print('RMSE:', np.sqrt(metrics.mean_squared_error(y_test, prediction))) \n",
        "print('MAE:', metrics.mean_absolute_error(y_test, prediction))"
      ],
      "execution_count": 31,
      "outputs": [
        {
          "output_type": "stream",
          "text": [
            "R2: 0.7204251482114891\n",
            "MSE: 20.746063208165175\n",
            "RMSE: 4.5547846500317855\n",
            "MAE: 3.1896138503096023\n"
          ],
          "name": "stdout"
        }
      ]
    },
    {
      "cell_type": "markdown",
      "metadata": {
        "id": "iY2MbNTKMXnH"
      },
      "source": [
        "### **Observações**\n",
        "O R-quadrado está sempre entre 0 e 100%:\n",
        "\n",
        "0% indica que o modelo não explica nada da variabilidade dos dados de resposta ao redor de sua média.\n",
        "100% indica que o modelo explica toda a variabilidade dos dados de resposta ao redor de sua média.\n",
        "Em geral, quanto maior o R-quadrado, melhor o modelo se ajusta aos seus dados. Neste caso 72% ficou um valor aceitável, mas longe do ideal. Já o MSE, dá um maior peso aos maiores erros, já que, ao ser calculado, cada erro é elevado ao quadrado individualmente e, após isso, a média desses erros quadráticos é calculada. Como ficou perto de 20%, ficou também um valor aceitavél mas poderia ficar mais próximo de 0.\n",
        "Por fim o MAE, ficou 3,18 e considero um valor para métrica, sendo que o ideal seria o mais próximo e 0 possível.\n"
      ]
    },
    {
      "cell_type": "markdown",
      "metadata": {
        "id": "cF5dpxCTWfv6"
      },
      "source": [
        "# **Classificação**\n",
        "1.\tAplicar à base classificação o modelo SVC, com kernel = rbf.\n",
        "2.\tAvaliar as métricas Acurácia, Precision, Recall, F1 e AUROC.\n"
      ]
    },
    {
      "cell_type": "code",
      "metadata": {
        "colab": {
          "base_uri": "https://localhost:8080/"
        },
        "id": "pVII2NOqry27",
        "outputId": "632d6311-104d-4ff9-f18a-2a14094fc2ae"
      },
      "source": [
        "from sklearn import datasets\n",
        "from sklearn import svm\n",
        "from sklearn.svm import SVC\n",
        "from sklearn import metrics\n",
        "from sklearn.preprocessing import label_binarize\n",
        "\n",
        "from sklearn.model_selection import train_test_split\n",
        "import numpy as np\n",
        "import pandas as pd\n",
        "\n",
        "iris = datasets.load_iris()\n",
        "X = iris.data\n",
        "y = iris.target\n",
        "X.shape, y.shape"
      ],
      "execution_count": 3,
      "outputs": [
        {
          "output_type": "execute_result",
          "data": {
            "text/plain": [
              "((150, 4), (150,))"
            ]
          },
          "metadata": {
            "tags": []
          },
          "execution_count": 3
        }
      ]
    },
    {
      "cell_type": "code",
      "metadata": {
        "id": "Em3hWOa-tqdL"
      },
      "source": [
        "X_train_iris, X_test_iris, y_train_iris, y_test_iris = train_test_split(X, y, test_size=0.35, random_state=0)\n",
        "\n",
        "# instanciacao e determinacao dos hiperparâmetros do SVM: tipo de kernel\n",
        "classifier = SVC(kernel='rbf')\n",
        "\n",
        "# treinando o SVM\n",
        "classifier.fit(X_train_iris,y_train_iris)\n",
        "predictions_svc = classifier.predict(X_test_iris)"
      ],
      "execution_count": 4,
      "outputs": []
    },
    {
      "cell_type": "code",
      "metadata": {
        "colab": {
          "base_uri": "https://localhost:8080/"
        },
        "id": "WPzHG_xnxPAJ",
        "outputId": "6ffe3a33-73a9-4661-95cd-be54d7227623"
      },
      "source": [
        "print('Matriz de Confusão\\n', metrics.confusion_matrix(y_test_iris, predictions_svc)) \n",
        "print('\\nAcurácia\\n', metrics.accuracy_score(y_test_iris, predictions_svc)) \n",
        "print('\\nAcurácia Balanceada por classe\\n', metrics.balanced_accuracy_score(y_test_iris, predictions_svc)) \n",
        "print('\\nPrecision\\n', metrics.precision_score(y_test_iris, predictions_svc, average='micro')) \n",
        "print('\\nRecall\\n', metrics.recall_score(y_test_iris, predictions_svc, average='micro')) \n",
        "print('\\nF1\\n', metrics.f1_score(y_test_iris, predictions_svc, average='micro')) "
      ],
      "execution_count": 5,
      "outputs": [
        {
          "output_type": "stream",
          "text": [
            "Matriz de Confusão\n",
            " [[16  0  0]\n",
            " [ 0 20  1]\n",
            " [ 0  0 16]]\n",
            "\n",
            "Acurácia\n",
            " 0.9811320754716981\n",
            "\n",
            "Acurácia Balanceada por classe\n",
            " 0.9841269841269842\n",
            "\n",
            "Precision\n",
            " 0.9811320754716981\n",
            "\n",
            "Recall\n",
            " 0.9811320754716981\n",
            "\n",
            "F1\n",
            " 0.9811320754716981\n"
          ],
          "name": "stdout"
        }
      ]
    },
    {
      "cell_type": "markdown",
      "metadata": {
        "id": "3rBt_IOgyXdu"
      },
      "source": [
        "### **Implementação para rodar a métrica AUCROC para três classes**"
      ]
    },
    {
      "cell_type": "code",
      "metadata": {
        "id": "FGaLQvq_vIKO"
      },
      "source": [
        "from sklearn.preprocessing import label_binarize\n",
        "from sklearn.multiclass import OneVsRestClassifier\n",
        "\n",
        "y = label_binarize(y, classes=[0, 1, 2])\n",
        "n_classes = y.shape[1]\n",
        "\n",
        "random_state = np.random.RandomState(0)\n",
        "n_samples, n_features = X.shape\n",
        "X = np.c_[X, random_state.randn(n_samples, 200 * n_features)]\n",
        "\n",
        "X_train_2, X_test_2, y_train_2, y_test_2 = train_test_split(X, y, test_size=0.35, random_state=0)\n",
        "\n",
        "classifier = OneVsRestClassifier(svm.SVC(kernel='rbf', probability=True, random_state=random_state))\n",
        "classifier.fit(X_train_2, y_train_2)\n",
        "y_pred = classifier.predict(X_test_2)"
      ],
      "execution_count": 6,
      "outputs": []
    },
    {
      "cell_type": "code",
      "metadata": {
        "colab": {
          "base_uri": "https://localhost:8080/"
        },
        "id": "WTavbEPzxbKw",
        "outputId": "53cc5c91-7563-40b2-8357-7566781a8d2a"
      },
      "source": [
        "print('\\nAUCROC\\n', metrics.roc_auc_score(y_test_2, y_pred))"
      ],
      "execution_count": 7,
      "outputs": [
        {
          "output_type": "stream",
          "text": [
            "\n",
            "AUCROC\n",
            " 0.5\n"
          ],
          "name": "stdout"
        }
      ]
    },
    {
      "cell_type": "markdown",
      "metadata": {
        "id": "fCzJ5d8rPhID"
      },
      "source": [
        "### **Observações**\n",
        "Como um todo, as métricas obtidas foram consideras ótimas, mas alguns pontos tem que ser levados em consideração: A amostra é pequena(apenas 150 instancias) e ela possui apenas 3 classes. Esse dataset, é perfeitamente balaceado, já que há 50 instancias para cada uma das classes. \n",
        "OBS: Não foi possível executar o AUCROC. Foi realizado algumas tentativas de contorno, mas sem sucesso.\n"
      ]
    },
    {
      "cell_type": "markdown",
      "metadata": {
        "id": "qLtDY5D6-nIj"
      },
      "source": [
        "# **Clusterização**\n",
        "1.\tIdentificar o número de clusters mais adequado de acordo com o dataset.\n",
        "2.\t Avaliar as métricas Coeficiente de Silhueta, Davies-Bouldin Score e Mutual Information. \n"
      ]
    },
    {
      "cell_type": "code",
      "metadata": {
        "id": "fXBklN_m-sU_"
      },
      "source": [
        "from sklearn.cluster import KMeans\n",
        "\n",
        "clustering = KMeans(n_clusters = 3, random_state = 42)\n",
        "clustering.fit(X_train_iris);\n",
        "predictions_kmeans = clustering.predict(X_test_iris)"
      ],
      "execution_count": 9,
      "outputs": []
    },
    {
      "cell_type": "code",
      "metadata": {
        "colab": {
          "base_uri": "https://localhost:8080/"
        },
        "id": "nh6G4JoZApwv",
        "outputId": "52ebdf22-a4b6-4b8d-cbc4-dfebc4bd71f7"
      },
      "source": [
        "print('Coeficiente de Silhueta\\n', metrics.silhouette_score(X_test_iris, predictions_kmeans)) \n",
        "print('\\nDavies-Bouldin Score\\n', metrics.davies_bouldin_score(X_test_iris, predictions_kmeans)) \n",
        "\n",
        "print('\\nMatriz de Contingência\\n', metrics.cluster.contingency_matrix(y_test_iris, predictions_kmeans)) \n",
        "print('\\nMutual information\\n', metrics.mutual_info_score(y_test_iris, predictions_kmeans)) "
      ],
      "execution_count": 10,
      "outputs": [
        {
          "output_type": "stream",
          "text": [
            "Coeficiente de Silhueta\n",
            " 0.5242009305875888\n",
            "\n",
            "Davies-Bouldin Score\n",
            " 0.6697035172939954\n",
            "\n",
            "Matriz de Contingência\n",
            " [[16  0  0]\n",
            " [ 0  0 21]\n",
            " [ 0 11  5]]\n",
            "\n",
            "Mutual information\n",
            " 0.8497983373622913\n"
          ],
          "name": "stdout"
        }
      ]
    },
    {
      "cell_type": "markdown",
      "metadata": {
        "id": "D-6_4jWXQD4N"
      },
      "source": [
        "### **Observações**\n",
        "\n",
        "O Coeficiente de Silhueta quanto mais perto de 1 melhor, já que varia de -1 a 1. O valor obtido 0.52 pode ser considerado bom. Já o indice Davies-Bouldin Score que indica que zero é a pontuação mais baixa possível e valores próximos de zero indicam uma partição melhor, não foi considerado um valor aceitável pois não ficou tão próximo de 0."
      ]
    }
  ]
}