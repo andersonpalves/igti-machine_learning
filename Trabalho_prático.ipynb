{
  "nbformat": 4,
  "nbformat_minor": 0,
  "metadata": {
    "colab": {
      "name": "Trabalho prático.ipynb",
      "provenance": [],
      "authorship_tag": "ABX9TyMyCvsJ49Wr11zsYAwMW4UO",
      "include_colab_link": true
    },
    "kernelspec": {
      "name": "python3",
      "display_name": "Python 3"
    },
    "language_info": {
      "name": "python"
    }
  },
  "cells": [
    {
      "cell_type": "markdown",
      "metadata": {
        "id": "view-in-github",
        "colab_type": "text"
      },
      "source": [
        "<a href=\"https://colab.research.google.com/github/andersonpalves/igti-machine_learning/blob/main/Trabalho_pr%C3%A1tico.ipynb\" target=\"_parent\"><img src=\"https://colab.research.google.com/assets/colab-badge.svg\" alt=\"Open In Colab\"/></a>"
      ]
    },
    {
      "cell_type": "markdown",
      "metadata": {
        "id": "ftQDFo5DCg8z"
      },
      "source": [
        "# Classificação SVC\n"
      ]
    },
    {
      "cell_type": "code",
      "metadata": {
        "id": "0x1MM0yUCS6S"
      },
      "source": [
        "from sklearn.ensemble import RandomForestClassifier\n",
        "from sklearn.svm import SVC\n",
        "from sklearn.model_selection import StratifiedKFold\n",
        "from sklearn.model_selection import RandomizedSearchCV\n",
        "from sklearn.model_selection import train_test_split\n",
        "from sklearn.model_selection import GridSearchCV\n",
        "from scipy.stats import uniform\n",
        "from scipy.stats import randint\n",
        "from sklearn.metrics import f1_score, make_scorer\n",
        "from sklearn import datasets"
      ],
      "execution_count": 72,
      "outputs": []
    },
    {
      "cell_type": "code",
      "metadata": {
        "id": "nUjcoEoiNkMT"
      },
      "source": [
        "import warnings\n",
        "warnings.filterwarnings('ignore')\n",
        "warnings.simplefilter('ignore')"
      ],
      "execution_count": 91,
      "outputs": []
    },
    {
      "cell_type": "code",
      "metadata": {
        "colab": {
          "base_uri": "https://localhost:8080/"
        },
        "id": "Fa2n5wnxDAF8",
        "outputId": "2883d683-c6f4-4d7e-e99e-c512ad84e7f6"
      },
      "source": [
        "cancer = datasets.load_breast_cancer()\n",
        "print('Amostras e Features:', cancer.data.shape)"
      ],
      "execution_count": 92,
      "outputs": [
        {
          "output_type": "stream",
          "text": [
            "Amostras e Features: (569, 30)\n"
          ],
          "name": "stdout"
        }
      ]
    },
    {
      "cell_type": "code",
      "metadata": {
        "colab": {
          "base_uri": "https://localhost:8080/"
        },
        "id": "IbBJ_mJxEXBU",
        "outputId": "553acb78-8107-481a-c5d9-a0b68d2d83bb"
      },
      "source": [
        "#definindo hiperparâmetros\n",
        "hiperparam = {'kernel':('sigmoid', 'rbf', 'poly'), 'C':[1, 10]}\n",
        "\n",
        "#definindo o tipo de validacao cruzada e o numero de folds\n",
        "cv_strat = StratifiedKFold(n_splits = 10)\n",
        "\n",
        "#instânciando meu classificador\n",
        "classifier = SVC(random_state=54)\n",
        "\n",
        "#definindo a estrategia de score a partir da metrica f1\n",
        "f1 = make_scorer(f1_score)\n",
        "\n",
        "#instanciando e modelando o random search com os hiperparametros e a validação definidas.\n",
        "random_cv = RandomizedSearchCV(classifier, hiperparam, cv = cv_strat, scoring = f1, random_state = 54, n_iter = 5)\n",
        "random_cv.fit(cancer.data, cancer.target)"
      ],
      "execution_count": 94,
      "outputs": [
        {
          "output_type": "execute_result",
          "data": {
            "text/plain": [
              "RandomizedSearchCV(cv=StratifiedKFold(n_splits=10, random_state=None, shuffle=False),\n",
              "                   error_score=nan,\n",
              "                   estimator=SVC(C=1.0, break_ties=False, cache_size=200,\n",
              "                                 class_weight=None, coef0=0.0,\n",
              "                                 decision_function_shape='ovr', degree=3,\n",
              "                                 gamma='scale', kernel='rbf', max_iter=-1,\n",
              "                                 probability=False, random_state=54,\n",
              "                                 shrinking=True, tol=0.001, verbose=False),\n",
              "                   iid='deprecated', n_iter=5, n_jobs=None,\n",
              "                   param_distributions={'C': [1, 10],\n",
              "                                        'kernel': ('sigmoid', 'rbf', 'poly')},\n",
              "                   pre_dispatch='2*n_jobs', random_state=54, refit=True,\n",
              "                   return_train_score=False, scoring=make_scorer(f1_score),\n",
              "                   verbose=0)"
            ]
          },
          "metadata": {
            "tags": []
          },
          "execution_count": 94
        }
      ]
    },
    {
      "cell_type": "code",
      "metadata": {
        "colab": {
          "base_uri": "https://localhost:8080/"
        },
        "id": "Jtnz7volL_ca",
        "outputId": "7f810e09-ff3f-4780-b50e-20ce1b57d94e"
      },
      "source": [
        "print('Resumo de todos os resultados encontrados:\\n\\n', random_cv.cv_results_)"
      ],
      "execution_count": 95,
      "outputs": [
        {
          "output_type": "stream",
          "text": [
            "Resumo de todos os resultados encontrados:\n",
            "\n",
            " {'mean_fit_time': array([0.00714583, 0.01792743, 0.0071147 , 0.01814516, 0.00462289]), 'std_fit_time': array([0.00124752, 0.00051096, 0.000192  , 0.00144272, 0.00023481]), 'mean_score_time': array([0.00170872, 0.00291989, 0.00175579, 0.0030196 , 0.00136142]), 'std_score_time': array([2.41810358e-04, 4.98585804e-04, 4.09353106e-04, 4.56566928e-04,\n",
            "       4.58475642e-05]), 'param_kernel': masked_array(data=['rbf', 'sigmoid', 'rbf', 'sigmoid', 'poly'],\n",
            "             mask=[False, False, False, False, False],\n",
            "       fill_value='?',\n",
            "            dtype=object), 'param_C': masked_array(data=[10, 1, 1, 10, 1],\n",
            "             mask=[False, False, False, False, False],\n",
            "       fill_value='?',\n",
            "            dtype=object), 'params': [{'kernel': 'rbf', 'C': 10}, {'kernel': 'sigmoid', 'C': 1}, {'kernel': 'rbf', 'C': 1}, {'kernel': 'sigmoid', 'C': 10}, {'kernel': 'poly', 'C': 1}], 'split0_test_score': array([0.90666667, 0.55555556, 0.92105263, 0.5       , 0.90909091]), 'split1_test_score': array([0.90909091, 0.65753425, 0.88311688, 0.64788732, 0.86075949]), 'split2_test_score': array([0.91891892, 0.62337662, 0.91891892, 0.54794521, 0.90666667]), 'split3_test_score': array([0.95890411, 0.53521127, 0.94736842, 0.49275362, 0.93506494]), 'split4_test_score': array([0.96      , 0.58666667, 0.94736842, 0.50704225, 0.94736842]), 'split5_test_score': array([0.90410959, 0.63291139, 0.94594595, 0.57894737, 0.94594595]), 'split6_test_score': array([0.97297297, 0.56410256, 0.95890411, 0.53333333, 0.95890411]), 'split7_test_score': array([0.94594595, 0.50666667, 0.94594595, 0.48648649, 0.95890411]), 'split8_test_score': array([0.94444444, 0.56410256, 0.94444444, 0.44444444, 0.94444444]), 'split9_test_score': array([0.95890411, 0.64102564, 0.93333333, 0.56756757, 0.94594595]), 'mean_test_score': array([0.93799577, 0.58671532, 0.93463991, 0.53064076, 0.9313095 ]), 'std_test_score': array([0.02452734, 0.04743113, 0.02086302, 0.05482805, 0.02911036]), 'rank_test_score': array([1, 4, 2, 5, 3], dtype=int32)}\n"
          ],
          "name": "stdout"
        }
      ]
    },
    {
      "cell_type": "code",
      "metadata": {
        "colab": {
          "base_uri": "https://localhost:8080/"
        },
        "id": "oDAEUV9nMGCc",
        "outputId": "b62052e8-d30f-4b8e-9f7f-a3b0d77c2dfb"
      },
      "source": [
        "print('Melhor resultado f1:', random_cv.best_score_)\n",
        "print('\\nMelhor configuração de hiperparâmetros:', random_cv.best_params_)\n",
        "print( '\\nConfigurações de todos os hiperparâmetros do melhor estimado encontrado pelo Random Search: \\n', random_cv.best_estimator_)"
      ],
      "execution_count": 107,
      "outputs": [
        {
          "output_type": "stream",
          "text": [
            "Melhor resultado f1: 0.9379957666259037\n",
            "\n",
            "Melhor configuração de hiperparâmetros: {'kernel': 'rbf', 'C': 10}\n",
            "\n",
            "Configurações de todos os hiperparâmetros do melhor estimado encontrado pelo Random Search: \n",
            " SVC(C=10, break_ties=False, cache_size=200, class_weight=None, coef0=0.0,\n",
            "    decision_function_shape='ovr', degree=3, gamma='scale', kernel='rbf',\n",
            "    max_iter=-1, probability=False, random_state=54, shrinking=True, tol=0.001,\n",
            "    verbose=False)\n"
          ],
          "name": "stdout"
        }
      ]
    },
    {
      "cell_type": "markdown",
      "metadata": {
        "id": "LN2IfLkLN0Sh"
      },
      "source": [
        "# Classificação Random Forest"
      ]
    },
    {
      "cell_type": "code",
      "metadata": {
        "colab": {
          "base_uri": "https://localhost:8080/"
        },
        "id": "unrbAw_7OPq1",
        "outputId": "28c3ee52-3eb4-4e60-c127-3cd1d875567c"
      },
      "source": [
        "#definindo hiperparâmetros\n",
        "hiperparam_rf = {'n_estimators':[10, 1000], 'bootstrap': (True, False), 'criterion': ('gini', 'entropy')}\n",
        "\n",
        "#instânciando meu classificador\n",
        "classifier_rf = RandomForestClassifier(random_state = 54)\n",
        "\n",
        "f1 = make_scorer(f1_score)\n",
        "\n",
        "#instanciando e modelando o grid search com os hiperparametros e a validação definidas.\n",
        "random_cv_rf = RandomizedSearchCV(classifier_rf, hiperparam_rf, cv = cv_strat, scoring = f1, random_state = 54, n_iter = 5)\n",
        "random_cv_rf.fit(cancer.data, cancer.target)"
      ],
      "execution_count": 104,
      "outputs": [
        {
          "output_type": "execute_result",
          "data": {
            "text/plain": [
              "RandomizedSearchCV(cv=StratifiedKFold(n_splits=10, random_state=None, shuffle=False),\n",
              "                   error_score=nan,\n",
              "                   estimator=RandomForestClassifier(bootstrap=True,\n",
              "                                                    ccp_alpha=0.0,\n",
              "                                                    class_weight=None,\n",
              "                                                    criterion='gini',\n",
              "                                                    max_depth=None,\n",
              "                                                    max_features='auto',\n",
              "                                                    max_leaf_nodes=None,\n",
              "                                                    max_samples=None,\n",
              "                                                    min_impurity_decrease=0.0,\n",
              "                                                    min_impurity_split=None,\n",
              "                                                    min_samples_leaf=1,\n",
              "                                                    min_samples_s...\n",
              "                                                    min_weight_fraction_leaf=0.0,\n",
              "                                                    n_estimators=100,\n",
              "                                                    n_jobs=None,\n",
              "                                                    oob_score=False,\n",
              "                                                    random_state=54, verbose=0,\n",
              "                                                    warm_start=False),\n",
              "                   iid='deprecated', n_iter=5, n_jobs=None,\n",
              "                   param_distributions={'bootstrap': (True, False),\n",
              "                                        'criterion': ('gini', 'entropy'),\n",
              "                                        'n_estimators': [10, 1000]},\n",
              "                   pre_dispatch='2*n_jobs', random_state=54, refit=True,\n",
              "                   return_train_score=False, scoring=make_scorer(f1_score),\n",
              "                   verbose=0)"
            ]
          },
          "metadata": {
            "tags": []
          },
          "execution_count": 104
        }
      ]
    },
    {
      "cell_type": "code",
      "metadata": {
        "colab": {
          "base_uri": "https://localhost:8080/"
        },
        "id": "n-PD8lNmTOhz",
        "outputId": "fa458c25-2519-44dc-eb0d-047882fdaf49"
      },
      "source": [
        "print('Resumo de todos os resultados encontrados:\\n\\n', random_cv_rf.cv_results_)"
      ],
      "execution_count": 108,
      "outputs": [
        {
          "output_type": "stream",
          "text": [
            "Resumo de todos os resultados encontrados:\n",
            "\n",
            " {'mean_fit_time': array([0.03922534, 0.03267381, 2.97832975, 0.02470951, 2.27452288]), 'std_fit_time': array([0.00305878, 0.00275239, 0.20998752, 0.00115508, 0.03497335]), 'mean_score_time': array([0.00277505, 0.00271628, 0.09956002, 0.00226116, 0.09665518]), 'std_score_time': array([0.00041742, 0.0003203 , 0.02066233, 0.00020806, 0.02154161]), 'param_n_estimators': masked_array(data=[10, 10, 1000, 10, 1000],\n",
            "             mask=[False, False, False, False, False],\n",
            "       fill_value='?',\n",
            "            dtype=object), 'param_criterion': masked_array(data=['entropy', 'gini', 'entropy', 'gini', 'gini'],\n",
            "             mask=[False, False, False, False, False],\n",
            "       fill_value='?',\n",
            "            dtype=object), 'param_bootstrap': masked_array(data=[False, False, True, True, True],\n",
            "             mask=[False, False, False, False, False],\n",
            "       fill_value='?',\n",
            "            dtype=object), 'params': [{'n_estimators': 10, 'criterion': 'entropy', 'bootstrap': False}, {'n_estimators': 10, 'criterion': 'gini', 'bootstrap': False}, {'n_estimators': 1000, 'criterion': 'entropy', 'bootstrap': True}, {'n_estimators': 10, 'criterion': 'gini', 'bootstrap': True}, {'n_estimators': 1000, 'criterion': 'gini', 'bootstrap': True}], 'split0_test_score': array([0.98550725, 0.98550725, 0.98550725, 0.98550725, 0.98550725]), 'split1_test_score': array([0.92753623, 0.90140845, 0.94444444, 0.91666667, 0.93150685]), 'split2_test_score': array([0.95890411, 0.93150685, 0.95890411, 0.93333333, 0.95890411]), 'split3_test_score': array([0.98630137, 0.96      , 0.96      , 0.94594595, 0.97297297]), 'split4_test_score': array([1.        , 0.98630137, 1.        , 0.98630137, 0.98630137]), 'split5_test_score': array([0.97142857, 0.98591549, 0.98591549, 0.98591549, 0.98591549]), 'split6_test_score': array([0.95890411, 0.97297297, 0.97297297, 0.97222222, 0.97297297]), 'split7_test_score': array([0.97297297, 0.98630137, 0.98630137, 0.98630137, 0.98630137]), 'split8_test_score': array([0.95774648, 0.95774648, 0.95774648, 0.97142857, 0.95774648]), 'split9_test_score': array([0.98550725, 0.98550725, 1.        , 0.98550725, 1.        ]), 'mean_test_score': array([0.97048083, 0.96531675, 0.97517921, 0.96691295, 0.97381289]), 'std_test_score': array([0.01963367, 0.02737134, 0.01823859, 0.02438214, 0.01884817]), 'rank_test_score': array([3, 5, 1, 4, 2], dtype=int32)}\n"
          ],
          "name": "stdout"
        }
      ]
    },
    {
      "cell_type": "code",
      "metadata": {
        "colab": {
          "base_uri": "https://localhost:8080/"
        },
        "id": "cuW1ykBcTVVa",
        "outputId": "a768362e-b6a5-4121-c54c-e52e3a339793"
      },
      "source": [
        "print('Melhor resultado f1:', random_cv_rf.best_score_)\n",
        "print('\\nMelhor configuração de hiperparâmetros:', random_cv_rf.best_params_)\n",
        "print( '\\nConfigurações de todos os hiperparâmetros do melhor estimado encontrado pelo Random Search: \\n', random_cv_rf.best_estimator_)"
      ],
      "execution_count": 109,
      "outputs": [
        {
          "output_type": "stream",
          "text": [
            "Melhor resultado f1: 0.975179211507727\n",
            "\n",
            "Melhor configuração de hiperparâmetros: {'n_estimators': 1000, 'criterion': 'entropy', 'bootstrap': True}\n",
            "\n",
            "Configurações de todos os hiperparâmetros do melhor estimado encontrado pelo Random Search: \n",
            " RandomForestClassifier(bootstrap=True, ccp_alpha=0.0, class_weight=None,\n",
            "                       criterion='entropy', max_depth=None, max_features='auto',\n",
            "                       max_leaf_nodes=None, max_samples=None,\n",
            "                       min_impurity_decrease=0.0, min_impurity_split=None,\n",
            "                       min_samples_leaf=1, min_samples_split=2,\n",
            "                       min_weight_fraction_leaf=0.0, n_estimators=1000,\n",
            "                       n_jobs=None, oob_score=False, random_state=54, verbose=0,\n",
            "                       warm_start=False)\n"
          ],
          "name": "stdout"
        }
      ]
    },
    {
      "cell_type": "markdown",
      "metadata": {
        "id": "c3VR1oyJUuzt"
      },
      "source": [
        "# Regressão Random Forest Regressor\n",
        "\n"
      ]
    },
    {
      "cell_type": "code",
      "metadata": {
        "id": "FPYVtCwGU3TS"
      },
      "source": [
        "from sklearn.ensemble import RandomForestRegressor\n",
        "rf = RandomForestRegressor(random_state = 54)"
      ],
      "execution_count": 110,
      "outputs": []
    },
    {
      "cell_type": "code",
      "metadata": {
        "id": "BaO0_LtSXLAA"
      },
      "source": [
        "# Number of trees in random forest\n",
        "n_estimators = [10,1000]\n",
        "# Number of features to consider at every split\n",
        "max_features = ['auto', 'sqrt']\n",
        "# Method of selecting samples for training each tree\n",
        "bootstrap = [True, False]\n",
        "\n",
        "random_grid = {'n_estimators': n_estimators,\n",
        "               'max_features': max_features,\n",
        "               'bootstrap': bootstrap}\n",
        "               \n",
        "#definindo o tipo de validacao cruzada e o numero de folds\n",
        "cv_strat = StratifiedKFold(n_splits = 10)"
      ],
      "execution_count": 113,
      "outputs": []
    },
    {
      "cell_type": "code",
      "metadata": {
        "colab": {
          "base_uri": "https://localhost:8080/"
        },
        "id": "aIEjznNhXlLS",
        "outputId": "0f83631d-68ef-46f6-ab02-75055e9c23d4"
      },
      "source": [
        "random_regressor = RandomizedSearchCV(rf, random_grid, cv = cv_strat,  random_state = 54, n_iter = 5)\n",
        "random_regressor.fit(cancer.data, cancer.target)"
      ],
      "execution_count": 115,
      "outputs": [
        {
          "output_type": "execute_result",
          "data": {
            "text/plain": [
              "RandomizedSearchCV(cv=StratifiedKFold(n_splits=10, random_state=None, shuffle=False),\n",
              "                   error_score=nan,\n",
              "                   estimator=RandomForestRegressor(bootstrap=True,\n",
              "                                                   ccp_alpha=0.0,\n",
              "                                                   criterion='mse',\n",
              "                                                   max_depth=None,\n",
              "                                                   max_features='auto',\n",
              "                                                   max_leaf_nodes=None,\n",
              "                                                   max_samples=None,\n",
              "                                                   min_impurity_decrease=0.0,\n",
              "                                                   min_impurity_split=None,\n",
              "                                                   min_samples_leaf=1,\n",
              "                                                   min_samples_split=2,\n",
              "                                                   min_weight_fraction_leaf=0.0,\n",
              "                                                   n_estimators=100,\n",
              "                                                   n_jobs=None, oob_score=False,\n",
              "                                                   random_state=54, verbose=0,\n",
              "                                                   warm_start=False),\n",
              "                   iid='deprecated', n_iter=5, n_jobs=None,\n",
              "                   param_distributions={'bootstrap': [True, False],\n",
              "                                        'max_features': ['auto', 'sqrt'],\n",
              "                                        'n_estimators': [10, 1000]},\n",
              "                   pre_dispatch='2*n_jobs', random_state=54, refit=True,\n",
              "                   return_train_score=False, scoring=None, verbose=0)"
            ]
          },
          "metadata": {
            "tags": []
          },
          "execution_count": 115
        }
      ]
    },
    {
      "cell_type": "code",
      "metadata": {
        "colab": {
          "base_uri": "https://localhost:8080/"
        },
        "id": "RhYB0nkWYjfC",
        "outputId": "71219c93-0bef-4c52-f77a-d7d61d982927"
      },
      "source": [
        "print('Resumo de todos os resultados encontrados:\\n\\n', random_regressor.cv_results_)"
      ],
      "execution_count": 116,
      "outputs": [
        {
          "output_type": "stream",
          "text": [
            "Resumo de todos os resultados encontrados:\n",
            "\n",
            " {'mean_fit_time': array([0.02421758, 0.08305082, 1.94946563, 0.05282614, 5.09870713]), 'std_fit_time': array([0.00234552, 0.00498081, 0.02712177, 0.00492841, 0.1691043 ]), 'mean_score_time': array([0.00165985, 0.00177262, 0.08074543, 0.00180621, 0.06147883]), 'std_score_time': array([6.44071321e-05, 1.11404328e-04, 2.35372943e-02, 1.92330653e-04,\n",
            "       2.48620133e-03]), 'param_n_estimators': masked_array(data=[10, 10, 1000, 10, 1000],\n",
            "             mask=[False, False, False, False, False],\n",
            "       fill_value='?',\n",
            "            dtype=object), 'param_max_features': masked_array(data=['sqrt', 'auto', 'sqrt', 'auto', 'auto'],\n",
            "             mask=[False, False, False, False, False],\n",
            "       fill_value='?',\n",
            "            dtype=object), 'param_bootstrap': masked_array(data=[False, False, True, True, True],\n",
            "             mask=[False, False, False, False, False],\n",
            "       fill_value='?',\n",
            "            dtype=object), 'params': [{'n_estimators': 10, 'max_features': 'sqrt', 'bootstrap': False}, {'n_estimators': 10, 'max_features': 'auto', 'bootstrap': False}, {'n_estimators': 1000, 'max_features': 'sqrt', 'bootstrap': True}, {'n_estimators': 10, 'max_features': 'auto', 'bootstrap': True}, {'n_estimators': 1000, 'max_features': 'auto', 'bootstrap': True}], 'split0_test_score': array([0.93781818, 0.7608961 , 0.91657628, 0.81715584, 0.88190888]), 'split1_test_score': array([0.69649351, 0.55362338, 0.71584086, 0.69353247, 0.72666405]), 'split2_test_score': array([0.75873016, 0.70293651, 0.81126305, 0.70821429, 0.77961252]), 'split3_test_score': array([0.78813492, 0.56646825, 0.83504426, 0.77984127, 0.80159212]), 'split4_test_score': array([0.91103175, 0.84694444, 0.93464528, 0.85599206, 0.93580827]), 'split5_test_score': array([0.89369048, 0.57099206, 0.91092468, 0.88690476, 0.90016103]), 'split6_test_score': array([0.86277778, 0.57099206, 0.8291992 , 0.76928571, 0.81549108]), 'split7_test_score': array([0.92912698, 0.77380952, 0.92656847, 0.88087302, 0.9107763 ]), 'split8_test_score': array([0.8597619 , 0.68634921, 0.88353219, 0.80849206, 0.87210414]), 'split9_test_score': array([0.92685714, 0.91009524, 0.92527581, 0.94209524, 0.91852274]), 'mean_test_score': array([0.85644228, 0.69431068, 0.86888701, 0.81423867, 0.85426411]), 'std_test_score': array([0.07815313, 0.12136848, 0.06674654, 0.07541073, 0.06579787]), 'rank_test_score': array([2, 5, 1, 4, 3], dtype=int32)}\n"
          ],
          "name": "stdout"
        }
      ]
    },
    {
      "cell_type": "code",
      "metadata": {
        "colab": {
          "base_uri": "https://localhost:8080/"
        },
        "id": "SH02-AzUYrRV",
        "outputId": "6f8c3bea-4d39-4d97-c670-7c51272686b9"
      },
      "source": [
        "print('Melhor resultado f1:', random_regressor.best_score_)\n",
        "print('\\nMelhor configuração de hiperparâmetros:', random_regressor.best_params_)\n",
        "print( '\\nConfigurações de todos os hiperparâmetros do melhor estimado encontrado pelo Random Search: \\n', random_regressor.best_estimator_)"
      ],
      "execution_count": 117,
      "outputs": [
        {
          "output_type": "stream",
          "text": [
            "Melhor resultado f1: 0.8688870074098125\n",
            "\n",
            "Melhor configuração de hiperparâmetros: {'n_estimators': 1000, 'max_features': 'sqrt', 'bootstrap': True}\n",
            "\n",
            "Configurações de todos os hiperparâmetros do melhor estimado encontrado pelo Random Search: \n",
            " RandomForestRegressor(bootstrap=True, ccp_alpha=0.0, criterion='mse',\n",
            "                      max_depth=None, max_features='sqrt', max_leaf_nodes=None,\n",
            "                      max_samples=None, min_impurity_decrease=0.0,\n",
            "                      min_impurity_split=None, min_samples_leaf=1,\n",
            "                      min_samples_split=2, min_weight_fraction_leaf=0.0,\n",
            "                      n_estimators=1000, n_jobs=None, oob_score=False,\n",
            "                      random_state=54, verbose=0, warm_start=False)\n"
          ],
          "name": "stdout"
        }
      ]
    }
  ]
}